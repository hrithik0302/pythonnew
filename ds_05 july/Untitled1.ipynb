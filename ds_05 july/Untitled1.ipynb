{
 "cells": [
  {
   "cell_type": "markdown",
   "id": "9047431f",
   "metadata": {},
   "source": [
    "# Assignment (Data cleaning)"
   ]
  },
  {
   "cell_type": "code",
   "execution_count": 2,
   "id": "2a554681",
   "metadata": {},
   "outputs": [],
   "source": [
    "import pandas as pd"
   ]
  },
  {
   "cell_type": "code",
   "execution_count": 3,
   "id": "51e86751",
   "metadata": {
    "scrolled": true
   },
   "outputs": [],
   "source": [
    "sales_2017 = pd.read_csv('Sales Transactions-2017.csv') "
   ]
  },
  {
   "cell_type": "code",
   "execution_count": 4,
   "id": "ba0585e5",
   "metadata": {},
   "outputs": [],
   "source": [
    "sales_2018 = pd.read_csv('Sales Transactions-2018.csv')"
   ]
  },
  {
   "cell_type": "code",
   "execution_count": 5,
   "id": "06820f9f",
   "metadata": {},
   "outputs": [],
   "source": [
    "sales_2019 = pd.read_csv('Sales Transactions-2019.csv')"
   ]
  },
  {
   "cell_type": "code",
   "execution_count": 9,
   "id": "d8dc191f",
   "metadata": {},
   "outputs": [],
   "source": [
    "total_sets = pd.concat([sales_2017,sales_2018,sales_2019])"
   ]
  },
  {
   "cell_type": "code",
   "execution_count": 10,
   "id": "16669a76",
   "metadata": {},
   "outputs": [
    {
     "data": {
      "text/html": [
       "<div>\n",
       "<style scoped>\n",
       "    .dataframe tbody tr th:only-of-type {\n",
       "        vertical-align: middle;\n",
       "    }\n",
       "\n",
       "    .dataframe tbody tr th {\n",
       "        vertical-align: top;\n",
       "    }\n",
       "\n",
       "    .dataframe thead th {\n",
       "        text-align: right;\n",
       "    }\n",
       "</style>\n",
       "<table border=\"1\" class=\"dataframe\">\n",
       "  <thead>\n",
       "    <tr style=\"text-align: right;\">\n",
       "      <th></th>\n",
       "      <th>Date</th>\n",
       "      <th>Voucher</th>\n",
       "      <th>Party</th>\n",
       "      <th>Product</th>\n",
       "      <th>Qty</th>\n",
       "      <th>Rate</th>\n",
       "      <th>Gross</th>\n",
       "      <th>Disc</th>\n",
       "      <th>Voucher Amount</th>\n",
       "    </tr>\n",
       "  </thead>\n",
       "  <tbody>\n",
       "    <tr>\n",
       "      <th>0</th>\n",
       "      <td>1/4/2017</td>\n",
       "      <td>Sal:1</td>\n",
       "      <td>SOLANKI PLASTICS</td>\n",
       "      <td>DONA-VAI-9100</td>\n",
       "      <td>2</td>\n",
       "      <td>1,690.00</td>\n",
       "      <td>3,380.00</td>\n",
       "      <td>NaN</td>\n",
       "      <td>13,100.00</td>\n",
       "    </tr>\n",
       "    <tr>\n",
       "      <th>1</th>\n",
       "      <td>1/4/2017</td>\n",
       "      <td>Sal:1</td>\n",
       "      <td>SOLANKI PLASTICS</td>\n",
       "      <td>LITE FOAM(1200)</td>\n",
       "      <td>6</td>\n",
       "      <td>1,620.00</td>\n",
       "      <td>9,720.00</td>\n",
       "      <td>NaN</td>\n",
       "      <td>NaN</td>\n",
       "    </tr>\n",
       "    <tr>\n",
       "      <th>2</th>\n",
       "      <td>1/4/2017</td>\n",
       "      <td>Sal:2</td>\n",
       "      <td>SARNESWARA TRADERS</td>\n",
       "      <td>VISHNU CHOTA WINE</td>\n",
       "      <td>500</td>\n",
       "      <td>23</td>\n",
       "      <td>11,500.00</td>\n",
       "      <td>NaN</td>\n",
       "      <td>30,990.00</td>\n",
       "    </tr>\n",
       "    <tr>\n",
       "      <th>3</th>\n",
       "      <td>1/4/2017</td>\n",
       "      <td>Sal:2</td>\n",
       "      <td>SARNESWARA TRADERS</td>\n",
       "      <td>LITE FOAM(1200)</td>\n",
       "      <td>6</td>\n",
       "      <td>1,620.00</td>\n",
       "      <td>9,720.00</td>\n",
       "      <td>NaN</td>\n",
       "      <td>NaN</td>\n",
       "    </tr>\n",
       "    <tr>\n",
       "      <th>4</th>\n",
       "      <td>1/4/2017</td>\n",
       "      <td>Sal:2</td>\n",
       "      <td>SARNESWARA TRADERS</td>\n",
       "      <td>DONA-VAI-9100</td>\n",
       "      <td>5</td>\n",
       "      <td>1,690.00</td>\n",
       "      <td>8,450.00</td>\n",
       "      <td>NaN</td>\n",
       "      <td>NaN</td>\n",
       "    </tr>\n",
       "    <tr>\n",
       "      <th>...</th>\n",
       "      <td>...</td>\n",
       "      <td>...</td>\n",
       "      <td>...</td>\n",
       "      <td>...</td>\n",
       "      <td>...</td>\n",
       "      <td>...</td>\n",
       "      <td>...</td>\n",
       "      <td>...</td>\n",
       "      <td>...</td>\n",
       "    </tr>\n",
       "    <tr>\n",
       "      <th>19171</th>\n",
       "      <td>10/10/2019</td>\n",
       "      <td>Sal:4935</td>\n",
       "      <td>K.SRIHARI</td>\n",
       "      <td>13*16 WHITE RK</td>\n",
       "      <td>400</td>\n",
       "      <td>16</td>\n",
       "      <td>6,400.00</td>\n",
       "      <td>NaN</td>\n",
       "      <td>NaN</td>\n",
       "    </tr>\n",
       "    <tr>\n",
       "      <th>19172</th>\n",
       "      <td>NaN</td>\n",
       "      <td>NaN</td>\n",
       "      <td>NaN</td>\n",
       "      <td>NaN</td>\n",
       "      <td>NaN</td>\n",
       "      <td>NaN</td>\n",
       "      <td>NaN</td>\n",
       "      <td>NaN</td>\n",
       "      <td>NaN</td>\n",
       "    </tr>\n",
       "    <tr>\n",
       "      <th>19173</th>\n",
       "      <td>NaN</td>\n",
       "      <td>NaN</td>\n",
       "      <td>NaN</td>\n",
       "      <td>NaN</td>\n",
       "      <td>NaN</td>\n",
       "      <td>NaN</td>\n",
       "      <td>NaN</td>\n",
       "      <td>NaN</td>\n",
       "      <td>NaN</td>\n",
       "    </tr>\n",
       "    <tr>\n",
       "      <th>19174</th>\n",
       "      <td>NaN</td>\n",
       "      <td>Total</td>\n",
       "      <td>NaN</td>\n",
       "      <td>NaN</td>\n",
       "      <td>99,284.90</td>\n",
       "      <td>175,381.65</td>\n",
       "      <td>2,203,649.50</td>\n",
       "      <td>20,680.00</td>\n",
       "      <td>2,189,014.50</td>\n",
       "    </tr>\n",
       "    <tr>\n",
       "      <th>19175</th>\n",
       "      <td>NaN</td>\n",
       "      <td>Total</td>\n",
       "      <td>NaN</td>\n",
       "      <td>NaN</td>\n",
       "      <td>2,710,193.00</td>\n",
       "      <td>5,519,888.40</td>\n",
       "      <td>53,360,791.40</td>\n",
       "      <td>672,984.00</td>\n",
       "      <td>52,830,224.40</td>\n",
       "    </tr>\n",
       "  </tbody>\n",
       "</table>\n",
       "<p>111206 rows × 9 columns</p>\n",
       "</div>"
      ],
      "text/plain": [
       "             Date   Voucher               Party            Product  \\\n",
       "0        1/4/2017     Sal:1    SOLANKI PLASTICS      DONA-VAI-9100   \n",
       "1        1/4/2017     Sal:1    SOLANKI PLASTICS    LITE FOAM(1200)   \n",
       "2        1/4/2017     Sal:2  SARNESWARA TRADERS  VISHNU CHOTA WINE   \n",
       "3        1/4/2017     Sal:2  SARNESWARA TRADERS    LITE FOAM(1200)   \n",
       "4        1/4/2017     Sal:2  SARNESWARA TRADERS      DONA-VAI-9100   \n",
       "...           ...       ...                 ...                ...   \n",
       "19171  10/10/2019  Sal:4935           K.SRIHARI     13*16 WHITE RK   \n",
       "19172         NaN       NaN                 NaN                NaN   \n",
       "19173         NaN       NaN                 NaN                NaN   \n",
       "19174         NaN   Total                   NaN                NaN   \n",
       "19175         NaN   Total                   NaN                NaN   \n",
       "\n",
       "                Qty          Rate          Gross        Disc Voucher Amount  \n",
       "0                 2      1,690.00       3,380.00         NaN      13,100.00  \n",
       "1                 6      1,620.00       9,720.00         NaN            NaN  \n",
       "2               500            23      11,500.00         NaN      30,990.00  \n",
       "3                 6      1,620.00       9,720.00         NaN            NaN  \n",
       "4                 5      1,690.00       8,450.00         NaN            NaN  \n",
       "...             ...           ...            ...         ...            ...  \n",
       "19171           400            16       6,400.00         NaN            NaN  \n",
       "19172           NaN           NaN            NaN         NaN            NaN  \n",
       "19173           NaN           NaN            NaN         NaN            NaN  \n",
       "19174     99,284.90    175,381.65   2,203,649.50   20,680.00   2,189,014.50  \n",
       "19175  2,710,193.00  5,519,888.40  53,360,791.40  672,984.00  52,830,224.40  \n",
       "\n",
       "[111206 rows x 9 columns]"
      ]
     },
     "execution_count": 10,
     "metadata": {},
     "output_type": "execute_result"
    }
   ],
   "source": [
    "total_sets"
   ]
  },
  {
   "cell_type": "code",
   "execution_count": 11,
   "id": "0a12e6b1",
   "metadata": {},
   "outputs": [
    {
     "data": {
      "text/plain": [
       "Date               12591\n",
       "Voucher            12557\n",
       "Party                 40\n",
       "Product            12591\n",
       "Qty                12557\n",
       "Rate               12558\n",
       "Gross              12558\n",
       "Disc              105609\n",
       "Voucher Amount     83646\n",
       "dtype: int64"
      ]
     },
     "execution_count": 11,
     "metadata": {},
     "output_type": "execute_result"
    }
   ],
   "source": [
    "total_sets.isnull().sum()"
   ]
  },
  {
   "cell_type": "code",
   "execution_count": 12,
   "id": "f18c2a5c",
   "metadata": {},
   "outputs": [
    {
     "name": "stdout",
     "output_type": "stream",
     "text": [
      "<class 'pandas.core.frame.DataFrame'>\n",
      "Int64Index: 111206 entries, 0 to 19175\n",
      "Data columns (total 9 columns):\n",
      " #   Column          Non-Null Count   Dtype \n",
      "---  ------          --------------   ----- \n",
      " 0   Date            98615 non-null   object\n",
      " 1   Voucher         98649 non-null   object\n",
      " 2   Party           111166 non-null  object\n",
      " 3   Product         98615 non-null   object\n",
      " 4   Qty             98649 non-null   object\n",
      " 5   Rate            98648 non-null   object\n",
      " 6   Gross           98648 non-null   object\n",
      " 7   Disc            5597 non-null    object\n",
      " 8   Voucher Amount  27560 non-null   object\n",
      "dtypes: object(9)\n",
      "memory usage: 8.5+ MB\n"
     ]
    }
   ],
   "source": [
    "total_sets.info()"
   ]
  },
  {
   "cell_type": "code",
   "execution_count": 16,
   "id": "1b185a78",
   "metadata": {},
   "outputs": [],
   "source": [
    "total_sets['Date'] = pd.to_datetime(total_sets['Date'].str.strip())"
   ]
  },
  {
   "cell_type": "code",
   "execution_count": 17,
   "id": "eef6fa56",
   "metadata": {},
   "outputs": [
    {
     "name": "stdout",
     "output_type": "stream",
     "text": [
      "<class 'pandas.core.frame.DataFrame'>\n",
      "Int64Index: 111206 entries, 0 to 19175\n",
      "Data columns (total 9 columns):\n",
      " #   Column          Non-Null Count   Dtype         \n",
      "---  ------          --------------   -----         \n",
      " 0   Date            95562 non-null   datetime64[ns]\n",
      " 1   Voucher         98649 non-null   object        \n",
      " 2   Party           111166 non-null  object        \n",
      " 3   Product         98615 non-null   object        \n",
      " 4   Qty             98649 non-null   object        \n",
      " 5   Rate            98648 non-null   object        \n",
      " 6   Gross           98648 non-null   object        \n",
      " 7   Disc            5597 non-null    object        \n",
      " 8   Voucher Amount  27560 non-null   object        \n",
      "dtypes: datetime64[ns](1), object(8)\n",
      "memory usage: 8.5+ MB\n"
     ]
    }
   ],
   "source": [
    "total_sets.info()"
   ]
  },
  {
   "cell_type": "code",
   "execution_count": null,
   "id": "9486102a",
   "metadata": {},
   "outputs": [],
   "source": [
    "df.[]"
   ]
  }
 ],
 "metadata": {
  "kernelspec": {
   "display_name": "Python 3",
   "language": "python",
   "name": "python3"
  },
  "language_info": {
   "codemirror_mode": {
    "name": "ipython",
    "version": 3
   },
   "file_extension": ".py",
   "mimetype": "text/x-python",
   "name": "python",
   "nbconvert_exporter": "python",
   "pygments_lexer": "ipython3",
   "version": "3.8.8"
  }
 },
 "nbformat": 4,
 "nbformat_minor": 5
}
