{
 "cells": [
  {
   "cell_type": "code",
   "execution_count": 1,
   "id": "8e242331",
   "metadata": {},
   "outputs": [
    {
     "ename": "NameError",
     "evalue": "name 'pd' is not defined",
     "output_type": "error",
     "traceback": [
      "\u001b[1;31m---------------------------------------------------------------------------\u001b[0m",
      "\u001b[1;31mNameError\u001b[0m                                 Traceback (most recent call last)",
      "\u001b[1;32m<ipython-input-1-34aaffe5b5b1>\u001b[0m in \u001b[0;36m<module>\u001b[1;34m\u001b[0m\n\u001b[1;32m----> 1\u001b[1;33m \u001b[0mdata_set\u001b[0m \u001b[1;33m=\u001b[0m \u001b[0mpd\u001b[0m\u001b[1;33m.\u001b[0m\u001b[0mread_csv\u001b[0m\u001b[1;33m(\u001b[0m\u001b[1;34m'drinks.csv'\u001b[0m\u001b[1;33m)\u001b[0m\u001b[1;33m\u001b[0m\u001b[1;33m\u001b[0m\u001b[0m\n\u001b[0m",
      "\u001b[1;31mNameError\u001b[0m: name 'pd' is not defined"
     ]
    }
   ],
   "source": [
    "data_set = pd.read_csv('drinks.csv')"
   ]
  },
  {
   "cell_type": "code",
   "execution_count": null,
   "id": "373279bc",
   "metadata": {},
   "outputs": [],
   "source": [
    "data_set"
   ]
  },
  {
   "cell_type": "code",
   "execution_count": null,
   "id": "7b3e08f5",
   "metadata": {},
   "outputs": [],
   "source": [
    "data_set.shape"
   ]
  },
  {
   "cell_type": "code",
   "execution_count": null,
   "id": "28eb9ff6",
   "metadata": {},
   "outputs": [],
   "source": [
    "data_set.info()"
   ]
  },
  {
   "cell_type": "code",
   "execution_count": null,
   "id": "8576ee8b",
   "metadata": {},
   "outputs": [],
   "source": [
    "data_set.describe(include='all')\n"
   ]
  },
  {
   "cell_type": "code",
   "execution_count": null,
   "id": "388ff15b",
   "metadata": {},
   "outputs": [],
   "source": [
    "data_set.isnull().sum()"
   ]
  },
  {
   "cell_type": "code",
   "execution_count": null,
   "id": "3bd2fb8e",
   "metadata": {},
   "outputs": [],
   "source": [
    "data_set.continent.nunique()"
   ]
  },
  {
   "cell_type": "code",
   "execution_count": null,
   "id": "a02f3b1e",
   "metadata": {},
   "outputs": [],
   "source": [
    "round(data_set.groupby('continent')['beer_servings'].mean().sort_values(ascending=False).head(1))"
   ]
  },
  {
   "cell_type": "code",
   "execution_count": null,
   "id": "0d32e393",
   "metadata": {},
   "outputs": [],
   "source": [
    "data_set.groupby(['continent','country'])['beer_servings'].mean().sort_values(ascending=False).head()"
   ]
  },
  {
   "cell_type": "markdown",
   "id": "dc2e7c0b",
   "metadata": {},
   "source": [
    "# Chapter 3. Apply"
   ]
  },
  {
   "cell_type": "code",
   "execution_count": null,
   "id": "9f19b221",
   "metadata": {},
   "outputs": [],
   "source": [
    "student_mat = pd.read_csv('student-mat.csv')"
   ]
  },
  {
   "cell_type": "code",
   "execution_count": null,
   "id": "b27d3a38",
   "metadata": {},
   "outputs": [],
   "source": [
    "student_mat"
   ]
  },
  {
   "cell_type": "code",
   "execution_count": null,
   "id": "bdfdb311",
   "metadata": {},
   "outputs": [],
   "source": [
    "student_mat.iloc[:, 0:12]"
   ]
  },
  {
   "cell_type": "code",
   "execution_count": null,
   "id": "7777b729",
   "metadata": {},
   "outputs": [],
   "source": [
    "students_details = student_mat.loc[:,'school':'guardian']\n",
    "students_details"
   ]
  },
  {
   "cell_type": "code",
   "execution_count": 4,
   "id": "56f45920",
   "metadata": {},
   "outputs": [
    {
     "ename": "SyntaxError",
     "evalue": "invalid syntax (<ipython-input-4-47f72ed032d1>, line 1)",
     "output_type": "error",
     "traceback": [
      "\u001b[1;36m  File \u001b[1;32m\"<ipython-input-4-47f72ed032d1>\"\u001b[1;36m, line \u001b[1;32m1\u001b[0m\n\u001b[1;33m    students_mat.age.apply(lambda= x:x*2)\u001b[0m\n\u001b[1;37m                                 ^\u001b[0m\n\u001b[1;31mSyntaxError\u001b[0m\u001b[1;31m:\u001b[0m invalid syntax\n"
     ]
    }
   ],
   "source": [
    "students_mat.age.apply(lambda= x:x*2)"
   ]
  },
  {
   "cell_type": "code",
   "execution_count": null,
   "id": "e8c7412d",
   "metadata": {},
   "outputs": [],
   "source": []
  }
 ],
 "metadata": {
  "kernelspec": {
   "display_name": "Python 3",
   "language": "python",
   "name": "python3"
  },
  "language_info": {
   "codemirror_mode": {
    "name": "ipython",
    "version": 3
   },
   "file_extension": ".py",
   "mimetype": "text/x-python",
   "name": "python",
   "nbconvert_exporter": "python",
   "pygments_lexer": "ipython3",
   "version": "3.8.8"
  }
 },
 "nbformat": 4,
 "nbformat_minor": 5
}
